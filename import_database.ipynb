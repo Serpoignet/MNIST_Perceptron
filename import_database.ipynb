# %%

import os
import numpy as np
import matplotlib.pyplot as plt
from sklearn import *
import pandas as pd

# %%
mnist = sklearn.datasets.fetch_mldata('MNIST original', data_home='datasets/')

# %%
y = pd.Series(mnist.target).astype('int').astype('category')
X = pd.DataFrame(mnist.data)

# %%
print(y.value_counts())
print(X.describe())